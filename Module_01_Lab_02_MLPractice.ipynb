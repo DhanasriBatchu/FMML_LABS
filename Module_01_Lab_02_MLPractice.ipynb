{
  "nbformat": 4,
  "nbformat_minor": 0,
  "metadata": {
    "colab": {
      "provenance": [],
      "include_colab_link": true
    },
    "kernelspec": {
      "name": "python3",
      "display_name": "Python 3"
    },
    "language_info": {
      "name": "python"
    }
  },
  "cells": [
    {
      "cell_type": "markdown",
      "metadata": {
        "id": "view-in-github",
        "colab_type": "text"
      },
      "source": [
        "<a href=\"https://colab.research.google.com/github/DhanasriBatchu/FMML_LABS/blob/main/Module_01_Lab_02_MLPractice.ipynb\" target=\"_parent\"><img src=\"https://colab.research.google.com/assets/colab-badge.svg\" alt=\"Open In Colab\"/></a>"
      ]
    },
    {
      "cell_type": "markdown",
      "metadata": {
        "id": "3Eu9VZbF01eq"
      },
      "source": [
        "# Machine learning terms and metrics\n",
        "\n",
        "FMML Module 1, Lab 2<br>\n",
        "\n",
        "\n",
        " In this lab, we will show a part of the ML pipeline by extracting features, training and testing"
      ]
    },
    {
      "cell_type": "code",
      "metadata": {
        "id": "8qBvyEem0vLi"
      },
      "source": [
        "import matplotlib.pyplot as plt\n",
        "import numpy as np\n",
        "from sklearn import datasets\n",
        "# set randomseed\n",
        "rng = np.random.default_rng(seed=42)"
      ],
      "execution_count": 17,
      "outputs": []
    },
    {
      "cell_type": "markdown",
      "metadata": {
        "id": "u3t59g5s1HfC"
      },
      "source": [
        "In this lab, we will use the California Housing dataset. There are 20640 samples, each with 8 attributes like income of the block, age of the houses per district etc. The task is to predict the cost of the houses per district.\n",
        "\n",
        "Let us download and examine the dataset."
      ]
    },
    {
      "cell_type": "code",
      "metadata": {
        "id": "8LpqjN991GGJ",
        "colab": {
          "base_uri": "https://localhost:8080/"
        },
        "outputId": "d7801105-5fbb-4300-ddaf-b3caff2797c8"
      },
      "source": [
        " dataset = datasets.fetch_california_housing()\n",
        "# print(dataset.DESCR)  # uncomment this if you want to know more about this dataset\n",
        "# print(dataset.keys())  # if you want to know what else is there in this dataset\n",
        "dataset.target = dataset.target.astype(np.int32) # so that we can classify\n",
        "print(dataset.data.shape)\n",
        "print(dataset.target.shape)\n"
      ],
      "execution_count": 19,
      "outputs": [
        {
          "output_type": "stream",
          "name": "stdout",
          "text": [
            "(20640, 8)\n",
            "(20640,)\n"
          ]
        }
      ]
    },
    {
      "cell_type": "markdown",
      "metadata": {
        "id": "iNx4174W5xRg"
      },
      "source": [
        "Here is a function for calculating the 1-nearest neighbours"
      ]
    },
    {
      "cell_type": "code",
      "metadata": {
        "id": "07zpydQj1hIQ"
      },
      "source": [
        "def NN1(traindata, trainlabel, query):\n",
        "  diff  = traindata - query  # find the difference between features. Numpy automatically takes care of the size here\n",
        "  sq = diff*diff # square the differences\n",
        "  dist = sq.sum(1) # add up the squares\n",
        "  label = trainlabel[np.argmin(dist)] # our predicted label is the label of the training data which has the least distance from the query\n",
        "  return label\n",
        "\n",
        "def NN(traindata, trainlabel, testdata):\n",
        "  # we will run nearest neighbour for each sample in the test data\n",
        "  # and collect the predicted classes in an array using list comprehension\n",
        "  predlabel = np.array([NN1(traindata, trainlabel, i) for i in testdata])\n",
        "  return predlabel"
      ],
      "execution_count": 20,
      "outputs": []
    },
    {
      "cell_type": "markdown",
      "metadata": {
        "id": "03JktkfIGaje"
      },
      "source": [
        "We will also define a 'random classifier', which randomly allots labels to each sample"
      ]
    },
    {
      "cell_type": "code",
      "metadata": {
        "id": "fogWAtjyGhAH"
      },
      "source": [
        "def RandomClassifier(traindata, trainlabel, testdata):\n",
        "  # in reality, we don't need these arguments\n",
        "\n",
        "  classes = np.unique(trainlabel)\n",
        "  rints = rng.integers(low=0, high=len(classes), size=len(testdata))\n",
        "  predlabel = classes[rints]\n",
        "  return predlabel"
      ],
      "execution_count": 21,
      "outputs": []
    },
    {
      "cell_type": "markdown",
      "metadata": {
        "id": "1Hjf1KHs7fU5"
      },
      "source": [
        "Let us define a metric 'Accuracy' to see how good our learning algorithm is. Accuracy is the ratio of the number of correctly classified samples to the total number of samples. The higher the accuracy, the better the algorithm."
      ]
    },
    {
      "cell_type": "code",
      "metadata": {
        "id": "ouuCqWU07bz-"
      },
      "source": [
        "def Accuracy(gtlabel, predlabel):\n",
        "  assert len(gtlabel)==len(predlabel), \"Length of the groundtruth labels and predicted labels should be the same\"\n",
        "  correct = (gtlabel==predlabel).sum() # count the number of times the groundtruth label is equal to the predicted label.\n",
        "  return correct/len(gtlabel)"
      ],
      "execution_count": 22,
      "outputs": []
    },
    {
      "cell_type": "markdown",
      "metadata": {
        "id": "4vJFwBFa9Klw"
      },
      "source": [
        "Let us make a function to split the dataset with the desired probability."
      ]
    },
    {
      "cell_type": "code",
      "metadata": {
        "id": "Ko0VzpSM2Tdi"
      },
      "source": [
        "def split(data, label, percent):\n",
        "  # generate a random number for each sample\n",
        "  rnd = rng.random(len(label))\n",
        "  split1 = rnd<percent\n",
        "  split2 = rnd>=percent\n",
        "  split1data = data[split1,:]\n",
        "  split1label = label[split1]\n",
        "  split2data = data[split2,:]\n",
        "  split2label = label[split2]\n",
        "  return split1data, split1label, split2data, split2label"
      ],
      "execution_count": 23,
      "outputs": []
    },
    {
      "cell_type": "markdown",
      "metadata": {
        "id": "AcK3LEAJ_LGC"
      },
      "source": [
        "We will reserve 20% of our dataset as the test set. We will not change this portion throughout our experiments"
      ]
    },
    {
      "cell_type": "code",
      "metadata": {
        "id": "bBZkHBLJ1iU-",
        "colab": {
          "base_uri": "https://localhost:8080/"
        },
        "outputId": "949c9f7c-78bf-4800-ff35-3cb7765695b6"
      },
      "source": [
        "testdata, testlabel, alltraindata, alltrainlabel = split(dataset.data, dataset.target, 20/100)\n",
        "print('Number of test samples = ', len(testlabel))\n",
        "print('Number of other samples = ', len(alltrainlabel))\n",
        "print('Percent of test data = ', len(testlabel)*100/len(dataset.target),'%')"
      ],
      "execution_count": 24,
      "outputs": [
        {
          "output_type": "stream",
          "name": "stdout",
          "text": [
            "Number of test samples =  4144\n",
            "Number of other samples =  16496\n",
            "Percent of test data =  20.07751937984496 %\n"
          ]
        }
      ]
    },
    {
      "cell_type": "markdown",
      "metadata": {
        "id": "a6Ss0Z6IAGNV"
      },
      "source": [
        "## Experiments with splits\n",
        "\n",
        "Let us reserve some of our train data as a validation set"
      ]
    },
    {
      "cell_type": "code",
      "metadata": {
        "id": "WFew2iry_7W7"
      },
      "source": [
        "traindata, trainlabel, valdata, vallabel = split(alltraindata, alltrainlabel, 75/100)"
      ],
      "execution_count": 25,
      "outputs": []
    },
    {
      "cell_type": "markdown",
      "metadata": {
        "id": "60hiu4clFN1i"
      },
      "source": [
        "What is the accuracy of our classifiers on the train dataset?"
      ]
    },
    {
      "cell_type": "code",
      "metadata": {
        "id": "DBlZDTHUFTZx",
        "colab": {
          "base_uri": "https://localhost:8080/"
        },
        "outputId": "1055b71f-421e-4021-a831-e2bf0a715f36"
      },
      "source": [
        "trainpred = NN(traindata, trainlabel, traindata)\n",
        "trainAccuracy = Accuracy(trainlabel, trainpred)\n",
        "print(\"Train accuracy using nearest neighbour is \", trainAccuracy)\n",
        "\n",
        "trainpred = RandomClassifier(traindata, trainlabel, traindata)\n",
        "trainAccuracy = Accuracy(trainlabel, trainpred)\n",
        "print(\"Train accuracy using random classifier is \", trainAccuracy)"
      ],
      "execution_count": 26,
      "outputs": [
        {
          "output_type": "stream",
          "name": "stdout",
          "text": [
            "Train accuracy using nearest neighbour is  1.0\n",
            "Train accuracy using random classifier is  0.164375808538163\n"
          ]
        }
      ]
    },
    {
      "cell_type": "markdown",
      "metadata": {
        "id": "7h08-9gJDtSy"
      },
      "source": [
        "For nearest neighbour, the train accuracy is always 1. The accuracy of the random classifier is close to 1/(number of classes) which is 0.1666 in our case.\n",
        "\n",
        "Let us predict the labels for our validation set and get the accuracy"
      ]
    },
    {
      "cell_type": "code",
      "metadata": {
        "id": "4h7bXoW_2H3v",
        "colab": {
          "base_uri": "https://localhost:8080/"
        },
        "outputId": "c827b740-e530-442f-a89a-0969a8908c7d"
      },
      "source": [
        "valpred = NN(traindata, trainlabel, valdata)\n",
        "valAccuracy = Accuracy(vallabel, valpred)\n",
        "print(\"Validation accuracy using nearest neighbour is \", valAccuracy)\n",
        "\n",
        "valpred = RandomClassifier(traindata, trainlabel, valdata)\n",
        "valAccuracy = Accuracy(vallabel, valpred)\n",
        "print(\"Validation accuracy using random classifier is \", valAccuracy)"
      ],
      "execution_count": 27,
      "outputs": [
        {
          "output_type": "stream",
          "name": "stdout",
          "text": [
            "Validation accuracy using nearest neighbour is  0.34108527131782945\n",
            "Validation accuracy using random classifier is  0.1688468992248062\n"
          ]
        }
      ]
    },
    {
      "cell_type": "markdown",
      "metadata": {
        "id": "py9bLguFEjfg"
      },
      "source": [
        "Validation accuracy of nearest neighbour is considerably less than its train accuracy while the validation accuracy of random classifier is the same. However, the validation accuracy of nearest neighbour is twice that of the random classifier.\n",
        "\n",
        "Now let us try another random split and check the validation accuracy"
      ]
    },
    {
      "cell_type": "code",
      "metadata": {
        "id": "ujm3cyYzEntE",
        "colab": {
          "base_uri": "https://localhost:8080/"
        },
        "outputId": "d5a463b9-60f9-413c-a565-eb7bd4d9e5b4"
      },
      "source": [
        "traindata, trainlabel, valdata, vallabel = split(alltraindata, alltrainlabel, 75/100)\n",
        "valpred = NN(traindata, trainlabel, valdata)\n",
        "valAccuracy = Accuracy(vallabel, valpred)\n",
        "print(\"Validation accuracy of nearest neighbour is \", valAccuracy)"
      ],
      "execution_count": 28,
      "outputs": [
        {
          "output_type": "stream",
          "name": "stdout",
          "text": [
            "Validation accuracy of nearest neighbour is  0.34048257372654156\n"
          ]
        }
      ]
    },
    {
      "cell_type": "markdown",
      "metadata": {
        "id": "oSOx7U83EKie"
      },
      "source": [
        "You can run the above cell multiple times to try with different random splits.\n",
        "We notice that the accuracy is different for each run, but close together.\n",
        "\n",
        "Now let us compare it with the accuracy we get on the test dataset."
      ]
    },
    {
      "cell_type": "code",
      "metadata": {
        "id": "PNEZ5ToYBEDW",
        "colab": {
          "base_uri": "https://localhost:8080/"
        },
        "outputId": "8189b27d-9ff7-40ea-ae30-83b44aa56804"
      },
      "source": [
        "testpred = NN(alltraindata, alltrainlabel, testdata)\n",
        "testAccuracy = Accuracy(testlabel, testpred)\n",
        "print('Test accuracy is ', testAccuracy)"
      ],
      "execution_count": 29,
      "outputs": [
        {
          "output_type": "stream",
          "name": "stdout",
          "text": [
            "Test accuracy is  0.34917953667953666\n"
          ]
        }
      ]
    },
    {
      "cell_type": "markdown",
      "metadata": {
        "id": "w3dGD531K3gH"
      },
      "source": [
        "### Try it out for yourself and answer:\n",
        "1. How is the accuracy of the validation set affected if we increase the percentage of validation set? What happens when we reduce it?\n",
        "2. How does the size of the train and validation set affect how well we can predict the accuracy on the test set using the validation set?\n",
        "3. What do you think is a good percentage to reserve for the validation set so that thest two factors are balanced?\n",
        "\n",
        "Answer for both nearest neighbour and random classifier. You can note down the values for your experiments and plot a graph using  <a href=https://matplotlib.org/stable/gallery/lines_bars_and_markers/step_demo.html#sphx-glr-gallery-lines-bars-and-markers-step-demo-py>plt.plot<href>. Check also for extreme values for splits, like 99.9% or 0.1%"
      ]
    },
    {
      "cell_type": "markdown",
      "source": [
        "1A:\n",
        "Increase in Validation Set Percentage:\n",
        "\n",
        "Pros: With a larger validation set, you provide more data for evaluating the model's performance. This can lead to more reliable estimates of the model's generalization performance.\n",
        "Cons: However, if the validation set becomes too large relative to the training set, the model may not learn enough from the training data, leading to underfitting. In such cases, the model may not capture the underlying patterns in the data well, resulting in lower accuracy on both the training and validation sets.\n",
        "Decrease in Validation Set Percentage:\n",
        "\n",
        "Pros: A smaller validation set allows for more data to be used in training the model. With more training data, the model may have a better opportunity to learn complex patterns and generalize well to unseen data.\n",
        "Cons: However, with a smaller validation set, the estimate of the model's performance on unseen data may be less reliable. The model's accuracy on the validation set may vary more due to random fluctuations in the data, leading to potentially optimistic or pessimistic estimates of performance."
      ],
      "metadata": {
        "id": "azkEP41sKzIV"
      }
    },
    {
      "cell_type": "markdown",
      "source": [
        "2A:\n",
        "Large Training Set, Small Validation Set:\n",
        "\n",
        "With a large training set and a small validation set, the model has more data to learn from during training. This can lead to better model generalization if the training set is representative of the underlying data distribution. However, the small validation set may provide a less reliable estimate of the model's performance on unseen data due to higher variance in the validation set accuracy.\n",
        "Small Training Set, Large Validation Set:\n",
        "\n",
        "Conversely, with a small training set and a large validation set, the model may not have enough data to learn complex patterns during training. This can lead to overfitting, where the model performs well on the training data but poorly on unseen data. However, the larger validation set may provide a more reliable estimate of the model's performance on unseen data due to lower variance in the validation set accuracy.\n",
        "Balanced Training and Validation Set Sizes:\n",
        "\n",
        "Ideally, you want to strike a balance between the sizes of the training and validation sets. A reasonably large training set allows the model to learn from sufficient data, while a reasonably large validation set provides a reliable estimate of the model's performance on unseen data. Cross-validation techniques, such as k-fold cross-validation, can help mitigate the variability in performance estimates and provide more robust assessments of model performance."
      ],
      "metadata": {
        "id": "Oixk0PTCLIs6"
      }
    },
    {
      "cell_type": "markdown",
      "source": [
        "3A:\n",
        "Size of the Dataset: If you have a large dataset, you can afford to allocate a smaller percentage to the validation set, as there will still be sufficient data for training. Conversely, if you have a smaller dataset, you may need to allocate a larger percentage to the validation set to ensure a representative sample for evaluating model performance.\n",
        "\n",
        "Complexity of the Model: More complex models tend to have a higher risk of overfitting, especially when trained on smaller datasets. In such cases, you may want to allocate a larger percentage to the validation set to obtain a more reliable estimate of model performance.\n",
        "\n",
        "Availability of Data: Consider the availability of data for both training and validation. If you have limited data, you may need to strike a balance between allocating enough data for training and reserving data for validation.\n",
        "\n",
        "Cross-Validation: In addition to splitting the data into training and validation sets, consider using cross-validation techniques such as k-fold cross-validation. Cross-validation can provide more robust estimates of model performance by leveraging multiple validation sets."
      ],
      "metadata": {
        "id": "5dXBQcN-LVWB"
      }
    },
    {
      "cell_type": "code",
      "source": [
        "import numpy as np\n",
        "import matplotlib.pyplot as plt\n",
        "from sklearn.model_selection import train_test_split\n",
        "from sklearn.linear_model import LogisticRegression\n",
        "from sklearn.metrics import accuracy_score\n",
        "\n",
        "# Generate some synthetic data\n",
        "X = np.random.rand(1000, 10)  # Features\n",
        "y = np.random.randint(0, 2, 1000)  # Binary labels\n",
        "\n",
        "# Define validation set percentages to experiment with\n",
        "validation_percentages = np.linspace(0.1, 0.9, 9)  # From 10% to 90%\n",
        "\n",
        "# Lists to store results\n",
        "validation_accuracies = []\n",
        "\n",
        "# Experiment with different validation set percentages\n",
        "for val_percentage in validation_percentages:\n",
        "    # Split data into training and validation sets\n",
        "    X_train, X_val, y_train, y_val = train_test_split(X, y, test_size=val_percentage, random_state=42)\n",
        "\n",
        "    # Train a simple logistic regression model\n",
        "    model = LogisticRegression()\n",
        "    model.fit(X_train, y_train)\n",
        "\n",
        "    # Predict on the validation set\n",
        "    y_pred = model.predict(X_val)\n",
        "\n",
        "    # Calculate accuracy and store it\n",
        "    accuracy = accuracy_score(y_val, y_pred)\n",
        "    validation_accuracies.append(accuracy)\n",
        "\n",
        "# Plot the results\n",
        "plt.plot(validation_percentages, validation_accuracies, marker='o')\n",
        "plt.title('Effect of Validation Set Percentage on Accuracy')\n",
        "plt.xlabel('Validation Set Percentage')\n",
        "plt.ylabel('Validation Accuracy')\n",
        "plt.grid(True)\n",
        "plt.show()\n"
      ],
      "metadata": {
        "id": "rIUENJjKLplJ",
        "outputId": "a64ecf8e-f084-4c27-8c9d-d701510c7f75",
        "colab": {
          "base_uri": "https://localhost:8080/",
          "height": 472
        }
      },
      "execution_count": 30,
      "outputs": [
        {
          "output_type": "display_data",
          "data": {
            "text/plain": [
              "<Figure size 640x480 with 1 Axes>"
            ],
            "image/png": "[encoded data removed]"
          },
          "metadata": {}
        }
      ]
    },
    {
      "cell_type": "markdown",
      "source": [],
      "metadata": {
        "id": "bbE6PT2vKmLC"
      }
    },
    {
      "cell_type": "markdown",
      "metadata": {
        "id": "PnYvkAZLQY7h"
      },
      "source": [
        "## Multiple Splits\n",
        "\n",
        "One way to get more accurate estimates for the test accuracy is by using <b>crossvalidation</b>. Here, we will try a simple version, where we do multiple train/val splits and take the average of validation accuracies as the test accuracy estimation. Here is a function for doing this. Note that this function will take a long time to execute."
      ]
    },
    {
      "cell_type": "code",
      "metadata": {
        "id": "E4nGCUQXBTzo"
      },
      "source": [
        "# you can use this function for random classifier also\n",
        "def AverageAccuracy(alldata, alllabel, splitpercent, iterations, classifier=NN):\n",
        "  accuracy = 0\n",
        "  for ii in range(iterations):\n",
        "    traindata, trainlabel, valdata, vallabel = split(alldata, alllabel, splitpercent)\n",
        "    valpred = classifier(traindata, trainlabel, valdata)\n",
        "    accuracy += Accuracy(vallabel, valpred)\n",
        "  return accuracy/iterations # average of all accuracies"
      ],
      "execution_count": 31,
      "outputs": []
    },
    {
      "cell_type": "code",
      "metadata": {
        "id": "H3qtNar7Bbik",
        "colab": {
          "base_uri": "https://localhost:8080/"
        },
        "outputId": "b76fcfdd-f3ab-4786-9ea4-a84121798d3c"
      },
      "source": [
        "print('Average validation accuracy is ', AverageAccuracy(alltraindata, alltrainlabel, 75/100, 10, classifier=NN))\n",
        "testpred = NN(alltraindata, alltrainlabel, testdata)\n",
        "print('test accuracy is ',Accuracy(testlabel, testpred) )"
      ],
      "execution_count": 32,
      "outputs": [
        {
          "output_type": "stream",
          "name": "stdout",
          "text": [
            "Average validation accuracy is  0.33584635395170215\n",
            "test accuracy is  0.34917953667953666\n"
          ]
        }
      ]
    },
    {
      "cell_type": "markdown",
      "metadata": {
        "id": "33GIn4x5VH-d"
      },
      "source": [
        "This is a very simple way of doing cross-validation. There are many well-known algorithms for cross-validation, like k-fold cross-validation, leave-one-out etc. This will be covered in detail in a later module. For more information about cross-validation, check <a href=https://en.wikipedia.org/wiki/Cross-validation_(statistics)>Cross-validatioin (Wikipedia)</a>\n",
        "\n",
        "### Questions\n",
        "1. Does averaging the validation accuracy across multiple splits give more consistent results?\n",
        "2. Does it give more accurate estimate of test accuracy?\n",
        "3. What is the effect of the number of iterations on the estimate? Do we get a better estimate with higher iterations?\n",
        "4. Consider the results you got for the previous questions. Can we deal with a very small train dataset or validation dataset by increasing the iterations?\n"
      ]
    },
    {
      "cell_type": "markdown",
      "source": [
        "1A:\n",
        "Reduces Variance: Each data split may result in slightly different validation accuracy due to the random assignment of data points. Averaging across multiple splits helps reduce the variance in the estimated performance metric, providing a more stable and reliable estimate of model performance.\n",
        "\n",
        "Better Generalization: By training and evaluating the model on multiple different subsets of the data, we obtain a better understanding of how the model performs on unseen data. This helps improve the generalization of the model's performance estimates to new, unseen data.\n",
        "\n",
        "Mitigates Bias: Averaging across multiple splits helps mitigate the potential bias introduced by any single data split. By considering multiple splits, we obtain a more representative estimate of the model's performance across different subsets of the data.\n",
        "\n",
        "Cross-Validation: Techniques like k-fold cross-validation systematically partition the data into multiple folds, ensuring that each data point is used for both training and validation. By averaging the performance metrics across different folds, we obtain a more robust estimate of model performance."
      ],
      "metadata": {
        "id": "XDxeemApL8IV"
      }
    },
    {
      "cell_type": "markdown",
      "source": [
        "2A:\n",
        "Variability in Performance: Machine learning models can perform differently on different subsets of the data due to factors such as randomness in the data splitting process, inherent variability in the data, and sensitivity to initial conditions. Averaging validation accuracy across multiple splits helps mitigate some of this variability but may not completely eliminate it.\n",
        "\n",
        "Generalization to Unseen Data: Validation accuracy, obtained by evaluating the model on a validation set, provides an estimate of how well the model generalizes to unseen data. Averaging validation accuracy across multiple splits provides a more robust estimate of this generalization performance by considering multiple subsets of the data. However, it's still an estimate and may not perfectly reflect the model's performance on a completely unseen test set.\n",
        "\n",
        "Cross-Validation Techniques: Techniques like k-fold cross-validation systematically partition the data into multiple folds and average performance metrics across different folds. This helps obtain a more accurate estimate of model performance compared to relying on a single validation split.\n",
        "\n",
        "Bias-Variance Trade-off: Averaging validation accuracy across multiple splits helps strike a balance between bias and variance in the estimated performance metric. A single validation split may introduce bias or high variance, while averaging across multiple splits helps mitigate these issues."
      ],
      "metadata": {
        "id": "zHpChHflMIFs"
      }
    },
    {
      "cell_type": "markdown",
      "source": [
        "3A:\n",
        "Convergence: In iterative learning algorithms, increasing the number of iterations may allow the algorithm to converge to a better or more stable solution. If the algorithm hasn't converged yet, increasing the number of iterations can improve the model's performance.\n",
        "\n",
        "Overfitting: On the other hand, increasing the number of iterations excessively may lead to overfitting, where the model learns to fit the training data too closely, capturing noise rather than underlying patterns. In such cases, the model's performance on validation or test data may degrade, even if the training performance improves.\n",
        "\n",
        "Computational Cost: Increasing the number of iterations typically increases the computational cost of training the model. If computational resources are limited, it may not be feasible or practical to train the model with a very large number of iterations.\n",
        "\n",
        "Early Stopping: To mitigate the risk of overfitting, practitioners often employ techniques like early stopping, where the training process is halted when the performance on a validation set starts to degrade. Early stopping allows for training iterations to be terminated before overfitting occurs, potentially leading to better generalization performance.\n",
        "\n",
        "Hyperparameter Tuning: The number of iterations is often considered a hyperparameter that requires tuning. Practitioners may experiment with different values of the number of iterations during hyperparameter optimization to find the optimal value that maximizes performance on a validation set."
      ],
      "metadata": {
        "id": "uF7iyXYDMTyk"
      }
    },
    {
      "cell_type": "markdown",
      "source": [
        "4A:\n",
        "Overfitting Mitigation: With a small training dataset, increasing the number of iterations can allow the model to learn more from the available data, potentially capturing more complex patterns. However, there's a risk of overfitting, where the model learns to fit the noise in the training data rather than the underlying patterns. Techniques like regularization and early stopping may help mitigate overfitting.\n",
        "\n",
        "Generalization: Increasing the number of iterations may improve the model's ability to generalize to unseen data, even with a small training dataset. By allowing the model to converge to a better solution, it may capture more relevant features from the data, leading to improved performance on validation or test data.\n",
        "\n",
        "Data Quality: The effectiveness of increasing iterations depends not only on the quantity but also the quality of the data. If the dataset is noisy or contains outliers, increasing iterations may not necessarily lead to better performance. In such cases, preprocessing steps like data cleaning and feature engineering may be more beneficial.\n",
        "\n",
        "Computational Considerations: Increasing the number of iterations also increases the computational cost of training the model. With limited computational resources, it may not be feasible to increase iterations excessively. Moreover, computational efficiency is not always guaranteed to translate into improved model performance."
      ],
      "metadata": {
        "id": "rDLxJMQkMfwi"
      }
    }
  ]
}